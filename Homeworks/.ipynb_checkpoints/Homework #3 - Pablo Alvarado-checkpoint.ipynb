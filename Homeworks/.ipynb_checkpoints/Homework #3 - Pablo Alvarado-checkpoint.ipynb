{
 "cells": [
  {
   "cell_type": "markdown",
   "id": "8351055b",
   "metadata": {},
   "source": [
    "## CMP-3004\n",
    "## Computer Organization\n",
    "\n",
    "### Spring 2023\n",
    "\n",
    "# Homework #2 - Pablo Alvarado 00215547\n",
    "\n",
    "## Use assembly to solve the following problems:\n",
    "\n",
    "### 1. Obtain the 50th Fibonacci number\n"
   ]
  },
  {
   "cell_type": "code",
   "execution_count": null,
   "id": "b2d03022",
   "metadata": {},
   "outputs": [],
   "source": [
    "section .data\n",
    "    result db 0\n",
    "    previous1 db 0\n",
    "    previous2 db 1\n",
    "    counter db 2\n",
    "\n",
    "section .text\n",
    "    global _start\n",
    "_start:\n",
    "    mov ecx, 50\n",
    "\n",
    "fib_loop:\n",
    "    add previous1, previous2\n",
    "    mov al, previous1\n",
    "    mov [result], al\n",
    "\n",
    "    mov al, previous2\n",
    "    mov bl, previous1\n",
    "    mov previous1, bl\n",
    "    mov previous2, al\n",
    "\n",
    "    inc byte [counter]\n",
    "    dec ecx\n",
    "    jnz fib_loop\n",
    "\n",
    "exit:\n",
    "    mov eax, 1\n",
    "    int 0x80\n"
   ]
  },
  {
   "cell_type": "markdown",
   "id": "61fa0219",
   "metadata": {},
   "source": [
    "### 2. Find out if a given year is leap"
   ]
  },
  {
   "cell_type": "code",
   "execution_count": null,
   "id": "2a2337c2",
   "metadata": {},
   "outputs": [],
   "source": [
    "section .data\n",
    "    my_year dw 2000\n",
    "    is_leap_year db 0\n",
    "\n",
    "section .text\n",
    "    global _start\n",
    "_start:\n",
    "    mov ax, [my_year]\n",
    "\n",
    "    cmp ax, 0\n",
    "    jz not_leap_year\n",
    "\n",
    "    cmp ax, 4\n",
    "    jb not_leap_year\n",
    "\n",
    "    cmp ax, 100\n",
    "    je not_leap_year\n",
    "\n",
    "    cmp ax, 400\n",
    "    je leap_year\n",
    "\n",
    "not_leap_year:\n",
    "    mov byte [is_leap_year], 0\n",
    "    jmp end\n",
    "\n",
    "leap_year:\n",
    "    mov byte [is_leap_year], 1\n",
    "\n",
    "end:\n",
    "    mov eax, 1\n",
    "    int 0x80\n"
   ]
  },
  {
   "cell_type": "markdown",
   "id": "2cc4134c",
   "metadata": {},
   "source": [
    "### 3. Given an array of integers, calculate the average"
   ]
  },
  {
   "cell_type": "code",
   "execution_count": null,
   "id": "8c033ad7",
   "metadata": {},
   "outputs": [],
   "source": [
    "section .data\n",
    "    my_array dw 2, 5, 10, 18, 25\n",
    "    array_size equ ($ - my_array) / 2\n",
    "    total_sum dw 0\n",
    "    average_val dw 0\n",
    "\n",
    "section .text\n",
    "    global _start\n",
    "    \n",
    "_start:\n",
    "    mov cx, array_size\n",
    "    lea si, my_array\n",
    "\n",
    "    mov ax, 0\n",
    "    mov dx, 0  ; Clear the dx register\n",
    "\n",
    "sum_loop:\n",
    "    add ax, [si]\n",
    "    add si, 2\n",
    "\n",
    "    loop sum_loop\n",
    "\n",
    "    mov bx, array_size\n",
    "    cwd\n",
    "    idiv bx\n",
    "\n",
    "    mov [average_val], ax\n"
   ]
  },
  {
   "cell_type": "markdown",
   "id": "ac433083",
   "metadata": {},
   "source": [
    "### 4. Write a program to transform from Celsius to Fahrenheit and vice versa"
   ]
  },
  {
   "cell_type": "code",
   "execution_count": null,
   "id": "13c15b2f",
   "metadata": {},
   "outputs": [],
   "source": [
    "section .data\n",
    "    celsius_temp dw 33\n",
    "    fahrenheit_result dw 0\n",
    "\n",
    "section .text\n",
    "    global _start\n",
    "_start:\n",
    "    mov ax, [celsius_temp]\n",
    "    \n",
    "    mov ebx, 9\n",
    "    imul eax, ebx\n",
    "    mov ebx, 5\n",
    "    idiv ebx\n",
    "    add ax, 32\n",
    "    mov [fahrenheit_result], ax\n",
    "\n",
    "    mov ax, [fahrenheit_result]\n",
    "    sub ax, 32\n",
    "    mov ebx, 5\n",
    "    imul eax, ebx\n",
    "    mov ebx, 9\n",
    "    idiv ebx\n",
    "    mov [celsius_temp], ax\n",
    "\n",
    "    mov eax, 1\n",
    "    int 0x80\n"
   ]
  },
  {
   "cell_type": "markdown",
   "id": "4e525627",
   "metadata": {},
   "source": [
    "## 2. For the following memory space, what would it look like after executing the assembly code below:\n",
    "\n",
    "|Address|Contents|\n",
    "|-------|--------|\n",
    "|10     | 1      |\n",
    "|11     | 4      |\n",
    "|12     | 5      |\n",
    "|13     | 112    |\n",
    "|14     | 7      |\n",
    "\n",
    "```\n",
    "LOAD 14\n",
    "ADD (12)\n",
    "STORE 12\n",
    "```\n",
    "\n",
    "### Answer:\n",
    "\n",
    "After executing these instructions, the value at memory address 12 gets updated to 9, which is the result of adding 7 and 5. The rest of the memory contents remain unchanged.\n",
    "\n",
    "\n",
    "|Address|Contents|\n",
    "|-------|--------|\n",
    "|10     | 1      |\n",
    "|11     | 4      |\n",
    "|12     | 9      |\n",
    "|13     | 112    |\n",
    "|14     | 7      |\n"
   ]
  },
  {
   "cell_type": "markdown",
   "id": "90f7a969",
   "metadata": {},
   "source": [
    "## 3. Implement a function named `abs_diff` that calculates the absolute value of the difference of two inputs `a` and `b` (i.e., |a-b|), and get the assembly code output"
   ]
  },
  {
   "cell_type": "code",
   "execution_count": 1,
   "id": "ae8c3421",
   "metadata": {},
   "outputs": [
    {
     "ename": "SyntaxError",
     "evalue": "invalid syntax (3408246824.py, line 3)",
     "output_type": "error",
     "traceback": [
      "\u001b[1;36m  Input \u001b[1;32mIn [1]\u001b[1;36m\u001b[0m\n\u001b[1;33m    int abs_diff(int a, int b) {\u001b[0m\n\u001b[1;37m        ^\u001b[0m\n\u001b[1;31mSyntaxError\u001b[0m\u001b[1;31m:\u001b[0m invalid syntax\n"
     ]
    }
   ],
   "source": [
    "#include <iostream>\n",
    "\n",
    "int abs_diff(int num1, int num2) {\n",
    "    int difference = num1 - num2;\n",
    "    if (difference < 0) {\n",
    "        return -difference;\n",
    "    } else {\n",
    "        return difference;\n",
    "    }\n",
    "}\n",
    "\n",
    "int main() {\n",
    "    int a = 8;\n",
    "    int b = 15;\n",
    "    int result = abs_diff(a, b);\n",
    "    std::cout << result;\n",
    "    return 0;\n",
    "}\n"
   ]
  },
  {
   "cell_type": "code",
   "execution_count": null,
   "id": "29bc76d5",
   "metadata": {},
   "outputs": [],
   "source": [
    ".section .data\n",
    ".section .text\n",
    ".global main\n",
    "\n",
    "main:\n",
    "    push    ebp\n",
    "    mov     ebp, esp\n",
    "    sub     esp, 16\n",
    "    \n",
    "    mov     DWORD PTR [ebp-4], 8\n",
    "    mov     DWORD PTR [ebp-8], 15\n",
    "    \n",
    "    mov     eax, DWORD PTR [ebp-4]\n",
    "    sub     eax, DWORD PTR [ebp-8]\n",
    "    \n",
    "    test    eax, eax\n",
    "    jge     .L1\n",
    "    neg     eax\n",
    "    \n",
    ".L1:\n",
    "    mov     DWORD PTR [ebp-12], eax\n",
    "    \n",
    "    mov     eax, DWORD PTR [ebp-12]\n",
    "    mov     esi, eax\n",
    "    lea     edi, [esp+4]\n",
    "    mov     eax, 0\n",
    "    call    printf\n",
    "    \n",
    "    mov     eax, 0\n",
    "    leave\n",
    "    ret\n"
   ]
  },
  {
   "cell_type": "markdown",
   "id": "87a96752",
   "metadata": {},
   "source": [
    "## 4. What are the differences among sequential access, direct access, and random access?"
   ]
  },
  {
   "cell_type": "markdown",
   "id": "e26fe6a2",
   "metadata": {},
   "source": [
    "The main differences include:\n",
    "1. Direct Access:\n",
    "   - Direct access allows you to access data at any position directly, without the need to go through preceding data.\n",
    "   - It is like having a book with a table of contents that allows you to jump to a specific chapter or page without reading everything in between.\n",
    "   - Direct access is useful when you need to access data randomly or non-sequentially, as it provides faster access to specific locations.\n",
    "\n",
    "2. Sequential Access:\n",
    "   - Sequential access involves accessing data in a step-by-step manner, starting from the beginning and proceeding in a linear order.\n",
    "   - It is similar to reading a book from cover to cover, where you need to go through each page before reaching a specific page.\n",
    "   - Sequential access is efficient when data is accessed in the same order it is stored, but it can be time-consuming if you need to access data at arbitrary positions.\n",
    "\n",
    "\n",
    "\n",
    "3. Random Access:\n",
    "   - Random access means having immediate access to any data location without the need for sequential traversal.\n",
    "   - It is similar to a well-organized library where you can directly access any book on the shelf without having to go through other books.\n",
    "   - Random access provides the fastest possible access to data since there is no need to search or navigate through preceding data.\n",
    "\n",
    "To summarize, sequential access involves accessing data step by step in a linear order, direct access allows jumping to specific positions without sequential traversal, and random access provides immediate access to any location without searching through preceding data. The choice of access method depends on the nature of the data and the desired access patterns for a given application or scenario."
   ]
  },
  {
   "cell_type": "markdown",
   "id": "67cfc9cf",
   "metadata": {},
   "source": [
    "## 5. What common characteristics are shared by all RAID levels?"
   ]
  },
  {
   "cell_type": "markdown",
   "id": "800052a4",
   "metadata": {},
   "source": [
    "The common characteristics shared by all RAID levels are as follows:\n",
    "\n",
    "Data Protection: RAID levels provide ways to protect data from disk failures. They use techniques like making copies of data (mirroring) or using special codes (parity) to recover data if a disk fails.\n",
    "\n",
    "Multiple Disks: RAID combines multiple physical disks into a single logical unit. It's like having multiple hard drives working together as one.\n",
    "\n",
    "Faster Performance: RAID improves data access speed by dividing data into smaller pieces and writing them across multiple disks simultaneously. This allows for faster reading and writing of data.\n",
    "\n",
    "Reliability: RAID enhances data reliability by storing redundant information. If one disk fails, the redundant data can be used to rebuild the lost information and keep the system running smoothly.\n",
    "\n",
    "Efficient Data Handling: RAID optimizes data handling by spreading the workload across multiple disks. This reduces the burden on individual disks, making data operations more efficient.\n",
    "\n",
    "Different RAID Types: There are various RAID configurations, like RAID 0, RAID 1, RAID 5, etc., each with its own way of organizing data and providing different levels of data protection and performance.\n",
    "\n",
    "In essence, RAID levels share the goal of protecting data, utilizing multiple disks for improved performance and reliability, and offering different ways to organize and manage data. These characteristics make RAID a versatile and powerful technology for data storage and protection."
   ]
  },
  {
   "cell_type": "code",
   "execution_count": null,
   "id": "ee679784",
   "metadata": {},
   "outputs": [],
   "source": []
  }
 ],
 "metadata": {
  "kernelspec": {
   "display_name": "Python 3 (ipykernel)",
   "language": "python",
   "name": "python3"
  },
  "language_info": {
   "codemirror_mode": {
    "name": "ipython",
    "version": 3
   },
   "file_extension": ".py",
   "mimetype": "text/x-python",
   "name": "python",
   "nbconvert_exporter": "python",
   "pygments_lexer": "ipython3",
   "version": "3.9.12"
  }
 },
 "nbformat": 4,
 "nbformat_minor": 5
}
