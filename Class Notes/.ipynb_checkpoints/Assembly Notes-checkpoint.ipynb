{
 "cells": [
  {
   "cell_type": "markdown",
   "id": "8689f05a",
   "metadata": {},
   "source": [
    "# Assembly Notes\n",
    "\n",
    "### Ask How to get assembly from C\n",
    "\n",
    "gcc -01 -S ./code.c  produces code.s\n",
    "\n",
    "### Basic Instructions\n",
    "\n",
    "#### movl\n",
    "\n",
    "Permite mover registros de un lugar de memoria a otro. Requiere saber el destino y el origen: \n",
    "- movl %edi, -20(%rbp)\n",
    "Primero Fuente, luego destinatario.\n",
    "\n",
    "#### %edi\n",
    "\n",
    "Porcentaje antes de texto en conjunto representan registros\n",
    "\n",
    "#### -20(%rbp)\n",
    "\n",
    "Se enfoca en tipos de direccionamiento. \n",
    "- inmediato: en la instruccion estan los datos\n",
    "- directo: Se pasa la direccion de memoria. (Puede ser memoria o registro)\n",
    "- indirecto: Registro tiene la direccion de memoria\n",
    "- relativo: Se pasa un numero de bytes con respecto a una direccion de memoria. A cuantos bytes desde un registro de memoria.\n",
    "\n",
    "Por ende significa: (%rbp) nos indica que el contenido de ese registro es una direccion de memoria.\n",
    "-20 nos indica que desde esa posicion dada del registro nos vamos -20 posiciones.\n",
    "\n",
    "y ese contenido es el que se mueve al %edi\n",
    "\n",
    "#### $6\n",
    "Representa otro tipo de direccionamiento\n",
    "\n",
    "#### addl\n",
    "Suma dos registros por direccionamiento directo\n",
    "\n",
    "- addl %edx, %eax \n",
    "\n",
    "Se almacena suma en el segundo"
   ]
  },
  {
   "cell_type": "code",
   "execution_count": 2,
   "id": "2f499794",
   "metadata": {},
   "outputs": [
    {
     "name": "stdout",
     "output_type": "stream",
     "text": [
      " Volume in drive C is Acer\n",
      " Volume Serial Number is C84F-BCB9\n",
      "\n",
      " Directory of C:\\Users\\pablo_yz7clw8\\Documents\\GitWorkSpace\\cmp-3004-spring23-psalvarado\\Class Notes\n",
      "\n",
      "21/03/2023  23:55    <DIR>          .\n",
      "28/02/2023  12:25    <DIR>          ..\n",
      "21/03/2023  23:35    <DIR>          .ipynb_checkpoints\n",
      "21/03/2023  23:55             2.289 Assembly Notes.ipynb\n",
      "28/02/2023  16:37            54.284 Partial 1 - Notes .ipynb\n",
      "               2 File(s)         56.573 bytes\n",
      "               3 Dir(s)  38.876.131.328 bytes free\n"
     ]
    }
   ],
   "source": [
    "!dir"
   ]
  },
  {
   "cell_type": "code",
   "execution_count": 5,
   "id": "47b5497c",
   "metadata": {},
   "outputs": [],
   "source": [
    "!gcc -S ./test.c"
   ]
  },
  {
   "cell_type": "code",
   "execution_count": 6,
   "id": "0f59a252",
   "metadata": {},
   "outputs": [
    {
     "name": "stdout",
     "output_type": "stream",
     "text": [
      " Volume in drive C is Acer\n",
      " Volume Serial Number is C84F-BCB9\n",
      "\n",
      " Directory of C:\\Users\\pablo_yz7clw8\\Documents\\GitWorkSpace\\cmp-3004-spring23-psalvarado\\Class Notes\n",
      "\n",
      "22/03/2023  00:04    <DIR>          .\n",
      "28/02/2023  12:25    <DIR>          ..\n",
      "21/03/2023  23:35    <DIR>          .ipynb_checkpoints\n",
      "22/03/2023  00:03             3.280 Assembly Notes.ipynb\n",
      "28/02/2023  16:37            54.284 Partial 1 - Notes .ipynb\n",
      "22/03/2023  00:02               195 test.c\n",
      "22/03/2023  00:04             1.152 test.s\n",
      "               4 File(s)         58.911 bytes\n",
      "               3 Dir(s)  38.937.223.168 bytes free\n"
     ]
    }
   ],
   "source": [
    "!dir"
   ]
  },
  {
   "cell_type": "code",
   "execution_count": 9,
   "id": "2f6790cd",
   "metadata": {},
   "outputs": [
    {
     "name": "stderr",
     "output_type": "stream",
     "text": [
      "'masm' is not recognized as an internal or external command,\n",
      "operable program or batch file.\n"
     ]
    }
   ],
   "source": [
    "!masm ArraySumLoop.asm\n"
   ]
  },
  {
   "cell_type": "code",
   "execution_count": 10,
   "id": "900daef9",
   "metadata": {},
   "outputs": [
    {
     "ename": "SyntaxError",
     "evalue": "invalid syntax (2562942062.py, line 2)",
     "output_type": "error",
     "traceback": [
      "\u001b[1;36m  Input \u001b[1;32mIn [10]\u001b[1;36m\u001b[0m\n\u001b[1;33m    myArray dd 1, 2, 3, 4, 5   ; example array\u001b[0m\n\u001b[1;37m            ^\u001b[0m\n\u001b[1;31mSyntaxError\u001b[0m\u001b[1;31m:\u001b[0m invalid syntax\n"
     ]
    }
   ],
   "source": [
    "section .data\n",
    "myArray dd 1, 2, 3, 4, 5   ; example array\n",
    "N equ 5                    ; number of elements in the array\n",
    "\n",
    "section .bss\n",
    "sum resd 1                 ; reserve 4 bytes for the sum variable\n",
    "\n",
    "section .text\n",
    "global _start\n",
    "\n",
    "_start:\n",
    "    ; Initialize the sum to zero\n",
    "    xor eax, eax\n",
    "    mov dword [sum], eax\n",
    "\n",
    "    ; Loop over the array elements and add them to the sum\n",
    "    mov ecx, N              ; ecx = number of iterations\n",
    "    mov esi, myArray        ; esi = pointer to the array\n",
    "loop_start:\n",
    "    cmp ecx, 0              ; check if we've reached the end of the loop\n",
    "    je loop_end\n",
    "    add eax, dword [esi]    ; add the current array element to the sum\n",
    "    add esi, 4              ; move the pointer to the next element\n",
    "    dec ecx                 ; decrement the iteration counter\n",
    "    jmp loop_start\n",
    "loop_end:\n",
    "    ; Store the result in the sum variable\n",
    "    mov dword [sum], eax\n",
    "\n",
    "    ; Exit the program\n",
    "    mov eax, 1              ; system call code for exit\n",
    "    xor ebx, ebx            ; exit status code (zero means success)\n",
    "    int 0x80                ; invoke the system call\n"
   ]
  },
  {
   "cell_type": "markdown",
   "id": "8ddc8593",
   "metadata": {},
   "source": [
    "Assuming that you have an array of 32-bit integers named \"myArray\" with N elements, and you want to store the result of the sum in a variable named \"sum\":\n",
    "\n",
    "In this example, we first initialize the sum variable to zero using the XOR instruction. We then set up a loop that iterates N times, where N is the number of elements in the array. We use the CMP instruction to check whether we have reached the end of the loop, and if so, we jump to the end of the loop. Otherwise, we add the current array element to the sum using the ADD instruction, and then move the pointer to the next element using the ADD instruction again. We then decrement the iteration counter using the DEC instruction, and jump back to the beginning of the loop using the JMP instruction.\n",
    "\n",
    "Finally, after the loop has finished, we store the result of the sum in the sum variable using the MOV instruction. We then use the system call instruction INT 0x80 to exit the program, with a status code of zero indicating success."
   ]
  },
  {
   "cell_type": "code",
   "execution_count": null,
   "id": "07048d67",
   "metadata": {},
   "outputs": [],
   "source": []
  }
 ],
 "metadata": {
  "kernelspec": {
   "display_name": "Python 3 (ipykernel)",
   "language": "python",
   "name": "python3"
  },
  "language_info": {
   "codemirror_mode": {
    "name": "ipython",
    "version": 3
   },
   "file_extension": ".py",
   "mimetype": "text/x-python",
   "name": "python",
   "nbconvert_exporter": "python",
   "pygments_lexer": "ipython3",
   "version": "3.9.12"
  }
 },
 "nbformat": 4,
 "nbformat_minor": 5
}
